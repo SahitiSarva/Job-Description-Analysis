{
 "cells": [
  {
   "cell_type": "code",
   "execution_count": 1,
   "metadata": {},
   "outputs": [],
   "source": [
    "import requests\n",
    "import pandas as pd\n",
    "from bs4 import BeautifulSoup\n",
    "from datetime import datetime"
   ]
  },
  {
   "cell_type": "markdown",
   "metadata": {},
   "source": [
    "# Product Management"
   ]
  },
  {
   "cell_type": "code",
   "execution_count": 91,
   "metadata": {},
   "outputs": [],
   "source": [
    "responsibility_synonyms = [\"You Have\",\"Required Skills\",\"WHAT WE'RE LOOKING FOR\", 'key responsibilities',\"Who You Are\" \"What you bring:\", \"Who are we looking for\",    \"Required Competencies & Qualifications:\",\n",
    "    \"WHAT WE'RE LOOKING FOR:\",\"Core Responsibilities\",\"What you'll need\",\n",
    "    \"We'd love to hear from you if you:\",\"We want you if you are\", \"About You\", \n",
    "    \"About You:\",\"What You Have\",\n",
    "    \"We're Excited About You Because:\",\"Minimum qualifications:\",\"The Ideal Candidate/Bonus Points\",\n",
    "    \"Qualifications\",\n",
    "    \"Who Are We Looking For\",     \"We want you if you are:\",\n",
    "    \"Required Competencies & Qualifications:\",\"What you need to succeed\",\n",
    "    \"WHAT WE'RE LOOKING FOR:\",\n",
    "    \"We'd love to hear from you if you:\",\"We prefer a teammate with:\",\"Requirements\",\n",
    "    \"About You:\",\n",
    "    \"We're Excited About You Because:\",\"Skills You'll Need to Bring:\",\"Skills and Qualifications\",\n",
    "    \"Qualifications:\",\n",
    "    \"Who Are We Looking For:\",\n",
    "    \"basic qualifications:\", \"We would like to see:\", \"Preferred Qualifications\", \"What is required for you to be successful in this role\"]"
   ]
  },
  {
   "cell_type": "code",
   "execution_count": 31,
   "metadata": {},
   "outputs": [],
   "source": [
    "links = pd.read_excel('../data/Job Description Links.xlsx')\n",
    "links2 = pd.read_csv('../data/url_links_productsthatcount.csv')\n",
    "links3 = pd.read_csv('../data/url_links_builtinnyc.csv')\n",
    "links4 = pd.read_csv('../data/url_links_builtinnyc2.csv')"
   ]
  },
  {
   "cell_type": "code",
   "execution_count": 32,
   "metadata": {},
   "outputs": [],
   "source": [
    "links4.drop(columns = 'Unnamed: 0', inplace=True)"
   ]
  },
  {
   "cell_type": "code",
   "execution_count": 5,
   "metadata": {},
   "outputs": [],
   "source": [
    "links = links.dropna()\n",
    "#links"
   ]
  },
  {
   "cell_type": "code",
   "execution_count": 6,
   "metadata": {},
   "outputs": [],
   "source": [
    "#links3"
   ]
  },
  {
   "cell_type": "code",
   "execution_count": 7,
   "metadata": {},
   "outputs": [],
   "source": [
    "import re\n",
    "\n",
    "def find_keywords_from_paragraph(div):\n",
    "    #print(div)\n",
    "\n",
    "    paragraph_text = div.get_text()\n",
    "    processed_paragraph_text = re.sub(r'[^a-zA-Z0-9\\s]', '', paragraph_text.lower())\n",
    "    for word in responsibility_synonyms:\n",
    "        processed_word = re.sub(r'[^a-zA-Z0-9\\s]', '', word.lower())\n",
    "        #print(processed_word)\n",
    "        if processed_word in processed_paragraph_text:\n",
    "\n",
    "            # container = div.find_parent(['div', 'header', 'h1', 'h2', 'h3', 'h4', 'h5', 'p'])\n",
    "            # if container:\n",
    "                \n",
    "            content = div.find_next_sibling([\"ul\", \"p\"])\n",
    "            if content:\n",
    "                print(\"Found word\")\n",
    "                #print(\"conten\", content)\n",
    "                if content.name == \"ul\":\n",
    "                    terms = [li.get_text() for li in content.find_all(\"li\")]\n",
    "                    return word, terms\n",
    "                else:\n",
    "                    return word, content.get_text()\n",
    "                #paragraph_element = div.find_next_sibling([\"p\"])\n",
    "                # if ul_element:\n",
    "                #     print(\"list element\")\n",
    "                #     li_elements = ul_element.find_all(\"li\")\n",
    "                #     return word, li_elements\n",
    "                # elif paragraph_element:\n",
    "                #     print(\"paragraph element\")\n",
    "                #     return word, paragraph_element.get_text()\n",
    "            #else:\n",
    "            #     return word, processed_paragraph_text\n",
    "        \n",
    "\n",
    "\n",
    "    "
   ]
  },
  {
   "cell_type": "code",
   "execution_count": 117,
   "metadata": {},
   "outputs": [],
   "source": [
    "from bs4 import BeautifulSoup, Tag\n",
    "import time\n",
    "\n",
    "# from timeout_decorator import timeout\n",
    "\n",
    "# @timeout(70)  # Set the timeout to 10 seconds\n",
    "\n",
    "def go_through_tags(div_elements):\n",
    "    try:\n",
    "        start_time = time.time()\n",
    "        if div_elements:\n",
    "            for id, div_element in enumerate(div_elements):\n",
    "\n",
    "                elapsed_time = time.time() - start_time\n",
    "\n",
    "                if elapsed_time > 30:  # Replace with your threshold\n",
    "                    print(\"Processing took too long. Stopping loop.\")\n",
    "                    break  # Exit the loop\n",
    "\n",
    "                if div_element and isinstance(div_element, Tag):\n",
    "                    ul_terms = find_keywords_from_paragraph(div_element)\n",
    "                    if ul_terms:\n",
    "                        return ul_terms\n",
    "                    else:\n",
    "                        div_within_div = div_element.find_all([\"div\", \"h1\", \"h2\", \"h3\", \"h4\", \"h5\", \"p\"])\n",
    "                        #print(\"Entering this also\")\n",
    "                        for div in div_within_div:\n",
    "                            result = go_through_tags(div)\n",
    "                            if result:\n",
    "                                return result\n",
    "    except Exception as e:\n",
    "            print(\"Error:\", e)\n",
    "            #else: None, None, \"Div not found\"\n",
    "\n",
    "    # else:\n",
    "    #     return None, None, \"Keyword not found\""
   ]
  },
  {
   "cell_type": "code",
   "execution_count": 10,
   "metadata": {},
   "outputs": [],
   "source": [
    "from tqdm import tqdm\n"
   ]
  },
  {
   "cell_type": "code",
   "execution_count": 129,
   "metadata": {},
   "outputs": [
    {
     "name": "stderr",
     "output_type": "stream",
     "text": [
      "2it [00:00,  3.17it/s]\n"
     ]
    }
   ],
   "source": [
    "df = pd.DataFrame(columns = ['url', 'keyword', 'terms', 'error', 'access_date'])\n",
    "\n",
    "# URL of the page to scrape\n",
    "\n",
    "url_list = links4['Links'].unique()[80:82]\n",
    "    \n",
    "for idx, url in tqdm(enumerate(url_list)):\n",
    "\n",
    "    df.at[idx, 'url'] = url\n",
    "\n",
    "    # Send a GET request to the URL\n",
    "    try:\n",
    "        response = requests.get(url)\n",
    "        if response.status_code == 200:\n",
    "\n",
    "            # # Parse the HTML content using Beautiful Soup\n",
    "            soup = BeautifulSoup(response.content, \"html.parser\")\n",
    "\n",
    "            div_elements = soup.find_all(\"div\")\n",
    "\n",
    "            ul = go_through_tags(div_elements)\n",
    "            df.at[idx, 'terms'] = ul[1]\n",
    "            df.at[idx, 'keyword'] = ul[0]\n",
    "            df.at[idx, 'access_date'] = datetime.today()\n",
    "                \n",
    "\n",
    "        else:\n",
    "            df.at[idx, 'error'] = 'Page is unavailable'\n",
    "    # except requests.Timeout:\n",
    "    #     df.at[idx, 'error'] = 'Request timed out'\n",
    "    except Exception as e:\n",
    "        df.at[idx, 'error'] = e\n",
    "\n"
   ]
  },
  {
   "cell_type": "code",
   "execution_count": 128,
   "metadata": {},
   "outputs": [
    {
     "data": {
      "text/plain": [
       "'https://www.builtinnyc.com/job/product/manager-product-manager-cloud-cost-optimization/232258'"
      ]
     },
     "execution_count": 128,
     "metadata": {},
     "output_type": "execute_result"
    }
   ],
   "source": [
    "df.iloc[0]['url']"
   ]
  },
  {
   "cell_type": "code",
   "execution_count": 114,
   "metadata": {},
   "outputs": [],
   "source": [
    "final_df = pd.concat([final_df, df.dropna(subset='terms')])\n",
    "\n",
    "#.to_csv('../data/requirements_sheet_jd_buuiltinny4.csv')"
   ]
  },
  {
   "cell_type": "code",
   "execution_count": 122,
   "metadata": {},
   "outputs": [],
   "source": [
    "df.dropna(subset='terms').to_csv('../data/requirements_sheet_jd_productthatcount1.csv')"
   ]
  },
  {
   "cell_type": "code",
   "execution_count": 115,
   "metadata": {},
   "outputs": [
    {
     "data": {
      "text/plain": [
       "(56, 5)"
      ]
     },
     "execution_count": 115,
     "metadata": {},
     "output_type": "execute_result"
    }
   ],
   "source": [
    "final_df.shape"
   ]
  }
 ],
 "metadata": {
  "kernelspec": {
   "display_name": "job-description-analysis",
   "language": "python",
   "name": "python3"
  },
  "language_info": {
   "codemirror_mode": {
    "name": "ipython",
    "version": 3
   },
   "file_extension": ".py",
   "mimetype": "text/x-python",
   "name": "python",
   "nbconvert_exporter": "python",
   "pygments_lexer": "ipython3",
   "version": "3.11.4"
  },
  "orig_nbformat": 4
 },
 "nbformat": 4,
 "nbformat_minor": 2
}
