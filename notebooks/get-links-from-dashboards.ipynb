{
 "cells": [
  {
   "cell_type": "code",
   "execution_count": 2,
   "metadata": {},
   "outputs": [],
   "source": [
    "import requests\n",
    "import pandas as pd\n",
    "from bs4 import BeautifulSoup\n",
    "from datetime import datetime"
   ]
  },
  {
   "cell_type": "code",
   "execution_count": 105,
   "metadata": {},
   "outputs": [],
   "source": [
    "def go_through_div(all_div):\n",
    "#product that count: class_ = 'infinite-scroll-component sc-beqWaB biNQIL'\n",
    "# built in nyc: d-flex gap-sm flex-column\n",
    "    url_links = []\n",
    "    for div in all_div:\n",
    "        #class_='infinite-scroll-component sc-beqWaB biNQIL')#\n",
    "        content_div = div.find(\"div\", class_ = 'infinite-scroll-component sc-beqWaB biNQIL')#'d-flex gap-sm flex-column')\n",
    "        if content_div:\n",
    "            #print(\"entering this\")\n",
    "            #print(content_div)\n",
    "            #for div in content_div.find_all(\"div\"):\n",
    "                #print(div.get_text())\n",
    "            return content_div\n",
    "        else:\n",
    "            #print(div.find_all(\"div\"))\n",
    "            recursive_result = go_through_div(div.find_all(\"div\"))\n",
    "            if recursive_result:\n",
    "                return recursive_result\n",
    "        "
   ]
  },
  {
   "cell_type": "code",
   "execution_count": 71,
   "metadata": {},
   "outputs": [],
   "source": [
    "def find_links(content_div):\n",
    "#product that count: class_ = \"sc-beqWaB sc-gueYoa hcVvkM MYFxR\"\n",
    "# built in nyc: d-flex gap-sm flex-column\n",
    "    url_links = []\n",
    "    #print(content_div)\n",
    "    for div in content_div:\n",
    "\n",
    "        #     print(url_div)\n",
    "        anchor_tag = div.find(\"a\")\n",
    "        for anchor_tag in anchor_tags:\n",
    "            href = anchor_tag.get(\"href\")\n",
    "            if href:\n",
    "                url_links.append(href)\n",
    "\n",
    "    return url_links"
   ]
  },
  {
   "cell_type": "code",
   "execution_count": 68,
   "metadata": {},
   "outputs": [],
   "source": [
    "#all_div"
   ]
  },
  {
   "cell_type": "code",
   "execution_count": 109,
   "metadata": {},
   "outputs": [],
   "source": [
    "#url = \"https://jobs.productsthatcount.com/jobs?q=product%20manager\"\n",
    "\n",
    "#for i in range(3,30):\n",
    "#url2 = f'https://www.builtinnyc.com/jobs/product?search=product%20manager&page={i}'\n",
    "url_within_url = \"https://jobs.productsthatcount.com/companies/amazon-3-e5a04f17-64b1-4aeb-8491-9cecea9bb41a?q=product+manager#content\"\n",
    "\n",
    "response = requests.get(url_within_url)\n",
    "soup = BeautifulSoup(response.content, \"html.parser\")\n",
    "\n",
    "url_links = []\n",
    "\n",
    "# Find all anchor tags (links) in the webpage\n",
    "anchor_tags = soup.find_all(\"a\")\n",
    "all_div = soup.find_all(\"div\")\n",
    "content_div = go_through_div(all_div)\n",
    "if content_div:\n",
    "    url_links = find_links(content_div)\n",
    "\n",
    "\n",
    "# for idx in range(len(url_links)):\n",
    "#     if '/jobs/product' in url_links[idx] or '/job/product' in url_links[idx]:\n",
    "#         url_links[idx] = \"https://www.builtinnyc.com\" + url_links[idx]\n",
    "\n",
    "# url_links = [x for x in url_links if 'product' in x and 'search' not in x]\n",
    "\n",
    "# all_built_in_nyc_links = all_built_in_nyc_links + list(set(url_links))\n",
    "\n",
    "\n",
    "        \n",
    "\n",
    "# # Extract and print the href attribute (URL) from each anchor tag\n",
    "\n",
    "#     if href:\n",
    "#         url_links.append(href)\n"
   ]
  },
  {
   "cell_type": "code",
   "execution_count": 108,
   "metadata": {},
   "outputs": [
    {
     "data": {
      "text/plain": [
       "422"
      ]
     },
     "execution_count": 108,
     "metadata": {},
     "output_type": "execute_result"
    }
   ],
   "source": [
    "len(all_built_in_nyc_links)"
   ]
  },
  {
   "cell_type": "code",
   "execution_count": 110,
   "metadata": {},
   "outputs": [],
   "source": [
    "for idx in range(len(url_links)):\n",
    "    if url_links[idx][0] == '/':\n",
    "        url_links[idx] = \"https://jobs.productsthatcount.com\" + url_links[idx]"
   ]
  },
  {
   "cell_type": "code",
   "execution_count": 111,
   "metadata": {},
   "outputs": [],
   "source": [
    "url_links = [x for x in url_links if 'product' in x and 'search' not in x]\n",
    "url_links = list(set(url_links))"
   ]
  },
  {
   "cell_type": "code",
   "execution_count": 112,
   "metadata": {},
   "outputs": [
    {
     "data": {
      "text/plain": [
       "[]"
      ]
     },
     "execution_count": 112,
     "metadata": {},
     "output_type": "execute_result"
    }
   ],
   "source": [
    "url_links"
   ]
  },
  {
   "cell_type": "code",
   "execution_count": 90,
   "metadata": {},
   "outputs": [
    {
     "data": {
      "text/plain": [
       "array(['https://www.builtinnyc.com/jobs/product?search=product%20manager',\n",
       "       'https://www.builtinnyc.com/jobs/product?search=product%20manager&page=2',\n",
       "       'https://www.builtinnyc.com/jobs/product?search=product%20manager&page=3',\n",
       "       'https://www.builtinnyc.com/jobs/product?search=product%20manager&page=4',\n",
       "       'https://www.builtinnyc.com/jobs/product?search=product%20manager&page=5',\n",
       "       'https://www.builtinnyc.com/jobs/product?search=product%20manager&page=28'],\n",
       "      dtype=object)"
      ]
     },
     "execution_count": 90,
     "metadata": {},
     "output_type": "execute_result"
    }
   ],
   "source": [
    "df[df['Links'].str.contains('search')]['Links'].unique()"
   ]
  },
  {
   "cell_type": "code",
   "execution_count": 104,
   "metadata": {},
   "outputs": [],
   "source": [
    "df = pd.DataFrame(all_built_in_nyc_links)#.to_csv('../data/url_links_productsthatcount.csv')\n",
    "df.rename(columns ={0: 'Links'}, inplace=True)\n",
    "df.to_csv('../data/url_links_builtinnyc2.csv')"
   ]
  }
 ],
 "metadata": {
  "kernelspec": {
   "display_name": "job-description-analysis",
   "language": "python",
   "name": "python3"
  },
  "language_info": {
   "codemirror_mode": {
    "name": "ipython",
    "version": 3
   },
   "file_extension": ".py",
   "mimetype": "text/x-python",
   "name": "python",
   "nbconvert_exporter": "python",
   "pygments_lexer": "ipython3",
   "version": "3.11.4"
  },
  "orig_nbformat": 4
 },
 "nbformat": 4,
 "nbformat_minor": 2
}
